{
 "cells": [
  {
   "cell_type": "code",
   "execution_count": 2,
   "id": "f7ea69b2-45d8-4a29-bb67-cd9f31f57428",
   "metadata": {},
   "outputs": [
    {
     "name": "stdout",
     "output_type": "stream",
     "text": [
      "✅ Saved combined dataset to churn_for_tableau.csv\n"
     ]
    }
   ],
   "source": [
    "import numpy as np\n",
    "import pandas as pd\n",
    "\n",
    "# Load your arrays\n",
    "X_train = np.load(\"../data/processed/X_train.npy\")\n",
    "X_test  = np.load(\"../data/processed/X_test.npy\")\n",
    "y_train = np.load(\"../data/processed/y_train.npy\")\n",
    "y_test  = np.load(\"../data/processed/y_test.npy\")\n",
    "\n",
    "# Combine train and test sets\n",
    "X = np.vstack([X_train, X_test])   # stack features vertically\n",
    "y = np.concatenate([y_train, y_test])  # combine labels\n",
    "\n",
    "# Convert to DataFrame\n",
    "df = pd.DataFrame(X)\n",
    "\n",
    "# Add target column\n",
    "df[\"Churn\"] = y\n",
    "\n",
    "# Save to CSV\n",
    "df.to_csv(\"../data/processed/churn_for_tableau.csv\", index=False)\n",
    "\n",
    "print(\"✅ Saved combined dataset to churn_for_tableau.csv\")\n",
    "\n"
   ]
  },
  {
   "cell_type": "code",
   "execution_count": null,
   "id": "6d4130b3-3e4c-42b8-aa2f-1bea56b27bd5",
   "metadata": {},
   "outputs": [],
   "source": []
  }
 ],
 "metadata": {
  "kernelspec": {
   "display_name": "Python [conda env:base] *",
   "language": "python",
   "name": "conda-base-py"
  },
  "language_info": {
   "codemirror_mode": {
    "name": "ipython",
    "version": 3
   },
   "file_extension": ".py",
   "mimetype": "text/x-python",
   "name": "python",
   "nbconvert_exporter": "python",
   "pygments_lexer": "ipython3",
   "version": "3.12.7"
  }
 },
 "nbformat": 4,
 "nbformat_minor": 5
}
