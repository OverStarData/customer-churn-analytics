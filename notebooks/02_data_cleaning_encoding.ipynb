{
 "cells": [
  {
   "cell_type": "code",
   "execution_count": 9,
   "id": "bf53b25d-1c1e-4905-a9dd-0ad42b4f03be",
   "metadata": {},
   "outputs": [
    {
     "name": "stdout",
     "output_type": "stream",
     "text": [
      "Imports & settings ✅\n"
     ]
    }
   ],
   "source": [
    "# 0) Imports & settings\n",
    "import os, warnings\n",
    "import numpy as np\n",
    "import pandas as pd\n",
    "import joblib\n",
    "from sklearn.model_selection import train_test_split\n",
    "from sklearn.preprocessing import StandardScaler, OneHotEncoder\n",
    "from sklearn.compose import ColumnTransformer\n",
    "from sklearn.pipeline import Pipeline\n",
    "from sklearn.impute import SimpleImputer\n",
    "\n",
    "warnings.filterwarnings(\"ignore\")\n",
    "pd.set_option(\"display.max_columns\", 100)\n",
    "pd.set_option(\"display.width\", 160)\n",
    "\n",
    "PROCESSED_DIR = \"../data/processed\"\n",
    "REPORTS_DIR = \"../reports\"\n",
    "os.makedirs(REPORTS_DIR, exist_ok=True)\n",
    "\n",
    "RAW_FILE = f\"{PROCESSED_DIR}/telco_churn_step1_clean.csv\"\n",
    "\n",
    "# Utility\n",
    "def title(s): \n",
    "    print(\"\\n\" + \"=\"*len(s)); print(s); print(\"=\"*len(s))\n",
    "\n",
    "print(\"Imports & settings ✅\")\n"
   ]
  },
  {
   "cell_type": "code",
   "execution_count": 10,
   "id": "ded7ac25-88a1-459e-b192-3bd368a265b0",
   "metadata": {},
   "outputs": [
    {
     "name": "stdout",
     "output_type": "stream",
     "text": [
      "\n",
      "=========================\n",
      "1) LOAD STEP 1 CLEAN DATA\n",
      "=========================\n",
      "Shape: (7043, 22)\n"
     ]
    },
    {
     "data": {
      "text/html": [
       "<div>\n",
       "<style scoped>\n",
       "    .dataframe tbody tr th:only-of-type {\n",
       "        vertical-align: middle;\n",
       "    }\n",
       "\n",
       "    .dataframe tbody tr th {\n",
       "        vertical-align: top;\n",
       "    }\n",
       "\n",
       "    .dataframe thead th {\n",
       "        text-align: right;\n",
       "    }\n",
       "</style>\n",
       "<table border=\"1\" class=\"dataframe\">\n",
       "  <thead>\n",
       "    <tr style=\"text-align: right;\">\n",
       "      <th></th>\n",
       "      <th>customerID</th>\n",
       "      <th>gender</th>\n",
       "      <th>SeniorCitizen</th>\n",
       "      <th>Partner</th>\n",
       "      <th>Dependents</th>\n",
       "      <th>tenure</th>\n",
       "      <th>PhoneService</th>\n",
       "      <th>MultipleLines</th>\n",
       "      <th>InternetService</th>\n",
       "      <th>OnlineSecurity</th>\n",
       "      <th>OnlineBackup</th>\n",
       "      <th>DeviceProtection</th>\n",
       "      <th>TechSupport</th>\n",
       "      <th>StreamingTV</th>\n",
       "      <th>StreamingMovies</th>\n",
       "      <th>Contract</th>\n",
       "      <th>PaperlessBilling</th>\n",
       "      <th>PaymentMethod</th>\n",
       "      <th>MonthlyCharges</th>\n",
       "      <th>TotalCharges</th>\n",
       "      <th>Churn</th>\n",
       "      <th>tenure_bin</th>\n",
       "    </tr>\n",
       "  </thead>\n",
       "  <tbody>\n",
       "    <tr>\n",
       "      <th>0</th>\n",
       "      <td>7590-VHVEG</td>\n",
       "      <td>Female</td>\n",
       "      <td>0</td>\n",
       "      <td>Yes</td>\n",
       "      <td>No</td>\n",
       "      <td>1</td>\n",
       "      <td>No</td>\n",
       "      <td>No phone service</td>\n",
       "      <td>DSL</td>\n",
       "      <td>No</td>\n",
       "      <td>Yes</td>\n",
       "      <td>No</td>\n",
       "      <td>No</td>\n",
       "      <td>No</td>\n",
       "      <td>No</td>\n",
       "      <td>Month-to-month</td>\n",
       "      <td>Yes</td>\n",
       "      <td>Electronic check</td>\n",
       "      <td>29.85</td>\n",
       "      <td>29.85</td>\n",
       "      <td>No</td>\n",
       "      <td>0-6</td>\n",
       "    </tr>\n",
       "    <tr>\n",
       "      <th>1</th>\n",
       "      <td>5575-GNVDE</td>\n",
       "      <td>Male</td>\n",
       "      <td>0</td>\n",
       "      <td>No</td>\n",
       "      <td>No</td>\n",
       "      <td>34</td>\n",
       "      <td>Yes</td>\n",
       "      <td>No</td>\n",
       "      <td>DSL</td>\n",
       "      <td>Yes</td>\n",
       "      <td>No</td>\n",
       "      <td>Yes</td>\n",
       "      <td>No</td>\n",
       "      <td>No</td>\n",
       "      <td>No</td>\n",
       "      <td>One year</td>\n",
       "      <td>No</td>\n",
       "      <td>Mailed check</td>\n",
       "      <td>56.95</td>\n",
       "      <td>1889.50</td>\n",
       "      <td>No</td>\n",
       "      <td>25-36</td>\n",
       "    </tr>\n",
       "    <tr>\n",
       "      <th>2</th>\n",
       "      <td>3668-QPYBK</td>\n",
       "      <td>Male</td>\n",
       "      <td>0</td>\n",
       "      <td>No</td>\n",
       "      <td>No</td>\n",
       "      <td>2</td>\n",
       "      <td>Yes</td>\n",
       "      <td>No</td>\n",
       "      <td>DSL</td>\n",
       "      <td>Yes</td>\n",
       "      <td>Yes</td>\n",
       "      <td>No</td>\n",
       "      <td>No</td>\n",
       "      <td>No</td>\n",
       "      <td>No</td>\n",
       "      <td>Month-to-month</td>\n",
       "      <td>Yes</td>\n",
       "      <td>Mailed check</td>\n",
       "      <td>53.85</td>\n",
       "      <td>108.15</td>\n",
       "      <td>Yes</td>\n",
       "      <td>0-6</td>\n",
       "    </tr>\n",
       "  </tbody>\n",
       "</table>\n",
       "</div>"
      ],
      "text/plain": [
       "   customerID  gender  SeniorCitizen Partner Dependents  tenure PhoneService     MultipleLines InternetService OnlineSecurity OnlineBackup DeviceProtection  \\\n",
       "0  7590-VHVEG  Female              0     Yes         No       1           No  No phone service             DSL             No          Yes               No   \n",
       "1  5575-GNVDE    Male              0      No         No      34          Yes                No             DSL            Yes           No              Yes   \n",
       "2  3668-QPYBK    Male              0      No         No       2          Yes                No             DSL            Yes          Yes               No   \n",
       "\n",
       "  TechSupport StreamingTV StreamingMovies        Contract PaperlessBilling     PaymentMethod  MonthlyCharges  TotalCharges Churn tenure_bin  \n",
       "0          No          No              No  Month-to-month              Yes  Electronic check           29.85         29.85    No        0-6  \n",
       "1          No          No              No        One year               No      Mailed check           56.95       1889.50    No      25-36  \n",
       "2          No          No              No  Month-to-month              Yes      Mailed check           53.85        108.15   Yes        0-6  "
      ]
     },
     "metadata": {},
     "output_type": "display_data"
    }
   ],
   "source": [
    "title(\"1) LOAD STEP 1 CLEAN DATA\")\n",
    "df = pd.read_csv(RAW_FILE)\n",
    "print(\"Shape:\", df.shape)\n",
    "display(df.head(3))\n"
   ]
  },
  {
   "cell_type": "code",
   "execution_count": 11,
   "id": "9d9db78d-5374-427d-b465-c21f465aa1b8",
   "metadata": {},
   "outputs": [
    {
     "name": "stdout",
     "output_type": "stream",
     "text": [
      "\n",
      "=========================\n",
      "2) TARGET & FEATURE SPLIT\n",
      "=========================\n",
      "X shape: (7043, 20)\n",
      "y distribution:\n",
      " Churn\n",
      "0    73.46\n",
      "1    26.54\n",
      "Name: proportion, dtype: float64\n"
     ]
    }
   ],
   "source": [
    "title(\"2) TARGET & FEATURE SPLIT\")\n",
    "\n",
    "# Define target\n",
    "TARGET = \"Churn\"\n",
    "df[TARGET] = df[TARGET].map({\"Yes\":1, \"No\":0})  # binary encoding\n",
    "\n",
    "# Drop customerID (identifier, not predictive)\n",
    "if \"customerID\" in df.columns:\n",
    "    df = df.drop(columns=[\"customerID\"])\n",
    "\n",
    "X = df.drop(columns=[TARGET])\n",
    "y = df[TARGET]\n",
    "\n",
    "print(\"X shape:\", X.shape)\n",
    "print(\"y distribution:\\n\", y.value_counts(normalize=True).mul(100).round(2))\n"
   ]
  },
  {
   "cell_type": "code",
   "execution_count": 12,
   "id": "90891ba8-9655-46b3-aac4-a5aab46545be",
   "metadata": {},
   "outputs": [
    {
     "name": "stdout",
     "output_type": "stream",
     "text": [
      "\n",
      "================\n",
      "3) FEATURE TYPES\n",
      "================\n",
      "Numeric columns: ['SeniorCitizen', 'tenure', 'MonthlyCharges', 'TotalCharges']\n",
      "Categorical columns: ['gender', 'Partner', 'Dependents', 'PhoneService', 'MultipleLines', 'InternetService', 'OnlineSecurity', 'OnlineBackup', 'DeviceProtection', 'TechSupport', 'StreamingTV', 'StreamingMovies', 'Contract', 'PaperlessBilling', 'PaymentMethod', 'tenure_bin']\n"
     ]
    }
   ],
   "source": [
    "title(\"3) FEATURE TYPES\")\n",
    "\n",
    "num_cols = X.select_dtypes(include=[np.number]).columns.tolist()\n",
    "cat_cols = [c for c in X.columns if c not in num_cols]\n",
    "\n",
    "print(\"Numeric columns:\", num_cols)\n",
    "print(\"Categorical columns:\", cat_cols)\n"
   ]
  },
  {
   "cell_type": "code",
   "execution_count": 13,
   "id": "65f025e3-a5a7-4f76-9336-645bba6d06dd",
   "metadata": {},
   "outputs": [
    {
     "name": "stdout",
     "output_type": "stream",
     "text": [
      "\n",
      "==========================\n",
      "4) PREPROCESSING PIPELINES\n",
      "==========================\n"
     ]
    }
   ],
   "source": [
    "title(\"4) PREPROCESSING PIPELINES\")\n",
    "\n",
    "# Numeric pipeline\n",
    "num_pipe = Pipeline(steps=[\n",
    "    (\"imputer\", SimpleImputer(strategy=\"median\")),\n",
    "    (\"scaler\", StandardScaler())\n",
    "])\n",
    "\n",
    "# Categorical pipeline\n",
    "cat_pipe = Pipeline(steps=[\n",
    "    (\"imputer\", SimpleImputer(strategy=\"most_frequent\")),\n",
    "    (\"onehot\", OneHotEncoder(handle_unknown=\"ignore\"))\n",
    "])\n",
    "\n",
    "# Combine\n",
    "preprocessor = ColumnTransformer(\n",
    "    transformers=[\n",
    "        (\"num\", num_pipe, num_cols),\n",
    "        (\"cat\", cat_pipe, cat_cols)\n",
    "    ]\n",
    ")\n"
   ]
  },
  {
   "cell_type": "code",
   "execution_count": 14,
   "id": "c97dab69-8466-4983-9f35-1acb171983fe",
   "metadata": {},
   "outputs": [
    {
     "name": "stdout",
     "output_type": "stream",
     "text": [
      "\n",
      "===================\n",
      "5) TRAIN/TEST SPLIT\n",
      "===================\n",
      "Train size: (5634, 20) Test size: (1409, 20)\n",
      "Churn % in train: 0.265\n",
      "Churn % in test: 0.265\n"
     ]
    }
   ],
   "source": [
    "title(\"5) TRAIN/TEST SPLIT\")\n",
    "\n",
    "X_train, X_test, y_train, y_test = train_test_split(\n",
    "    X, y, test_size=0.2, stratify=y, random_state=42\n",
    ")\n",
    "\n",
    "print(\"Train size:\", X_train.shape, \"Test size:\", X_test.shape)\n",
    "print(\"Churn % in train:\", y_train.mean().round(3))\n",
    "print(\"Churn % in test:\", y_test.mean().round(3))\n"
   ]
  },
  {
   "cell_type": "code",
   "execution_count": 15,
   "id": "85db2b1a-5a23-4931-af73-6d681f070846",
   "metadata": {},
   "outputs": [
    {
     "name": "stdout",
     "output_type": "stream",
     "text": [
      "\n",
      "==================\n",
      "6) FIT & TRANSFORM\n",
      "==================\n",
      "Transformed shapes: (5634, 51) (1409, 51)\n"
     ]
    },
    {
     "data": {
      "text/plain": [
       "['../models/preprocessor.joblib']"
      ]
     },
     "execution_count": 15,
     "metadata": {},
     "output_type": "execute_result"
    }
   ],
   "source": [
    "title(\"6) FIT & TRANSFORM\")\n",
    "\n",
    "# Fit only on training data\n",
    "preprocessor.fit(X_train)\n",
    "\n",
    "# Transform train & test\n",
    "X_train_transformed = preprocessor.transform(X_train)\n",
    "X_test_transformed  = preprocessor.transform(X_test)\n",
    "\n",
    "print(\"Transformed shapes:\", X_train_transformed.shape, X_test_transformed.shape)\n",
    "\n",
    "joblib.dump(preprocessor, \"../models/preprocessor.joblib\")\n"
   ]
  },
  {
   "cell_type": "code",
   "execution_count": 16,
   "id": "18698948-b238-41d6-b53f-eb823344a365",
   "metadata": {},
   "outputs": [
    {
     "name": "stdout",
     "output_type": "stream",
     "text": [
      "\n",
      "=================================\n",
      "7) SAVE PROCESSED DATA & METADATA\n",
      "=================================\n",
      "Saved processed data & feature list.\n"
     ]
    }
   ],
   "source": [
    "title(\"7) SAVE PROCESSED DATA & METADATA\")\n",
    "\n",
    "# Save transformed arrays\n",
    "np.save(f\"{PROCESSED_DIR}/X_train.npy\", X_train_transformed)\n",
    "np.save(f\"{PROCESSED_DIR}/X_test.npy\",  X_test_transformed)\n",
    "np.save(f\"{PROCESSED_DIR}/y_train.npy\", y_train.values)\n",
    "np.save(f\"{PROCESSED_DIR}/y_test.npy\",  y_test.values)\n",
    "\n",
    "# Save feature names (important for interpretation later)\n",
    "ohe = preprocessor.named_transformers_[\"cat\"][\"onehot\"]\n",
    "cat_features = list(ohe.get_feature_names_out(cat_cols))\n",
    "final_features = num_cols + cat_features\n",
    "\n",
    "pd.Series(final_features).to_csv(f\"{REPORTS_DIR}/final_features.csv\", index=False)\n",
    "print(\"Saved processed data & feature list.\")\n"
   ]
  },
  {
   "cell_type": "code",
   "execution_count": null,
   "id": "e767d52a-20a4-442e-ab30-722f93c0311b",
   "metadata": {},
   "outputs": [],
   "source": []
  }
 ],
 "metadata": {
  "kernelspec": {
   "display_name": "Python [conda env:base] *",
   "language": "python",
   "name": "conda-base-py"
  },
  "language_info": {
   "codemirror_mode": {
    "name": "ipython",
    "version": 3
   },
   "file_extension": ".py",
   "mimetype": "text/x-python",
   "name": "python",
   "nbconvert_exporter": "python",
   "pygments_lexer": "ipython3",
   "version": "3.12.2"
  }
 },
 "nbformat": 4,
 "nbformat_minor": 5
}
